{
 "cells": [
  {
   "cell_type": "code",
   "execution_count": null,
   "id": "8ad0018f",
   "metadata": {},
   "outputs": [],
   "source": [
    "import colorgram\n",
    "\n",
    "colors = colorgram.extract(\"hirst_image.jpg\", 30)\n",
    "print(colors)\n",
    "col_list = []\n",
    "for color in colors:\n",
    "    r = color.rgb.r\n",
    "    g = color.rgb.g\n",
    "    b = color.rgb.b\n",
    "    new_color = (r, g, b)\n",
    "    col_list.append(new_color)\n",
    "print(col_list)"
   ]
  }
 ],
 "metadata": {
  "kernelspec": {
   "display_name": "Python 3 (ipykernel)",
   "language": "python",
   "name": "python3"
  },
  "language_info": {
   "codemirror_mode": {
    "name": "ipython",
    "version": 3
   },
   "file_extension": ".py",
   "mimetype": "text/x-python",
   "name": "python",
   "nbconvert_exporter": "python",
   "pygments_lexer": "ipython3",
   "version": "3.9.12"
  }
 },
 "nbformat": 4,
 "nbformat_minor": 5
}
