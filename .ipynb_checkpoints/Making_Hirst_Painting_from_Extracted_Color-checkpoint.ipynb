{
 "cells": [
  {
   "cell_type": "code",
   "execution_count": null,
   "id": "391626b6",
   "metadata": {},
   "outputs": [],
   "source": [
    "from turtle import Turtle, Screen, colormode\n",
    "import random\n",
    "\n",
    "colormode(255)\n",
    "color_list = [(245, 243, 238), (246, 242, 244), (202, 164, 110), (240, 245, 241), (236, 239, 243), (149, 75, 50),\n",
    "              (222, 201, 136), (53, 93, 123), (170, 154, 41), (138, 31, 20), (134, 163, 184), (197, 92, 73),\n",
    "              (47, 121, 86), (73, 43, 35), (145, 178, 149), (14, 98, 70), (232, 176, 165), (160, 142, 158),\n",
    "              (54, 45, 50), (101, 75, 77), (183, 205, 171), (36, 60, 74), (19, 86, 89), (82, 148, 129), (147, 17, 19),\n",
    "              (27, 68, 102), (12, 70, 64), (107, 127, 153), (176, 192, 208), (168, 99, 102)]\n",
    "screen = Screen()\n",
    "y = 0\n",
    "tim = Turtle()\n",
    "tim.penup()\n",
    "tim.setpos(-200, -200)\n",
    "tim.speed(\"fastest\")\n",
    "for i in range(10):\n",
    "    for _ in range(10):\n",
    "        tim.dot(20, random.choice(color_list))\n",
    "        tim.forward(50)\n",
    "    y += 50\n",
    "    tim.goto(-200, -200 + y)\n",
    "\n",
    "screen.exitonclick()"
   ]
  }
 ],
 "metadata": {
  "kernelspec": {
   "display_name": "Python 3 (ipykernel)",
   "language": "python",
   "name": "python3"
  },
  "language_info": {
   "codemirror_mode": {
    "name": "ipython",
    "version": 3
   },
   "file_extension": ".py",
   "mimetype": "text/x-python",
   "name": "python",
   "nbconvert_exporter": "python",
   "pygments_lexer": "ipython3",
   "version": "3.9.12"
  }
 },
 "nbformat": 4,
 "nbformat_minor": 5
}
